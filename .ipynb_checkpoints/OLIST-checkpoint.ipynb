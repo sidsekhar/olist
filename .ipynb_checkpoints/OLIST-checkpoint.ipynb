{
 "cells": [
  {
   "cell_type": "code",
   "execution_count": 17,
   "metadata": {},
   "outputs": [],
   "source": [
    "import pandas as pd\n",
    "import numpy as np\n",
    "import matplotlib.pyplot as plt\n",
    "import seaborn as sns\n",
    "import statsmodels.api as sm\n",
    "from statsmodels.stats.stattools import durbin_watson\n",
    "from statsmodels.stats.outliers_influence import variance_inflation_factor"
   ]
  },
  {
   "cell_type": "code",
   "execution_count": 2,
   "metadata": {},
   "outputs": [],
   "source": [
    "customers = pd.read_csv('./data/olist_customers_dataset.csv')"
   ]
  },
  {
   "cell_type": "code",
   "execution_count": 3,
   "metadata": {},
   "outputs": [],
   "source": [
    "geolocation = pd.read_csv('./data/olist_geolocation_dataset.csv')"
   ]
  },
  {
   "cell_type": "code",
   "execution_count": 4,
   "metadata": {},
   "outputs": [],
   "source": [
    "order_items = pd.read_csv('./data/olist_order_items_dataset.csv')"
   ]
  },
  {
   "cell_type": "code",
   "execution_count": 5,
   "metadata": {},
   "outputs": [],
   "source": [
    "order_payment = pd.read_csv('./data/olist_order_payments_dataset.csv')"
   ]
  },
  {
   "cell_type": "code",
   "execution_count": 6,
   "metadata": {},
   "outputs": [],
   "source": [
    "order_review = pd.read_csv('./data/olist_order_reviews_dataset.csv')"
   ]
  },
  {
   "cell_type": "code",
   "execution_count": 7,
   "metadata": {},
   "outputs": [],
   "source": [
    "orders = pd.read_csv('./data/olist_orders_dataset.csv')"
   ]
  },
  {
   "cell_type": "code",
   "execution_count": 9,
   "metadata": {},
   "outputs": [],
   "source": [
    "products = pd.read_csv('./data/olist_products_dataset.csv')"
   ]
  },
  {
   "cell_type": "code",
   "execution_count": 10,
   "metadata": {},
   "outputs": [],
   "source": [
    "sellers = pd.read_csv('./data/olist_sellers_dataset.csv')"
   ]
  },
  {
   "cell_type": "code",
   "execution_count": 11,
   "metadata": {},
   "outputs": [],
   "source": [
    "product_category_name = pd.read_csv('./data/product_category_name_translation.csv')"
   ]
  },
  {
   "cell_type": "code",
   "execution_count": 28,
   "metadata": {},
   "outputs": [
    {
     "data": {
      "text/plain": [
       "product_name_lenght           8.403721\n",
       "product_description_lenght    2.511064\n",
       "product_photos_qty            2.646336\n",
       "product_weight_g              2.374241\n",
       "product_length_cm             6.471715\n",
       "product_height_cm             3.536315\n",
       "product_width_cm              7.399201\n",
       "dtype: float64"
      ]
     },
     "execution_count": 28,
     "metadata": {},
     "output_type": "execute_result"
    }
   ],
   "source": [
    "prod_na=products._get_numeric_data()\n",
    "pd.Series([variance_inflation_factor(prod_na.dropna().values, i)for i in range(prod_na.shape[1])],index=prod_na.columns)"
   ]
  },
  {
   "cell_type": "code",
   "execution_count": 32,
   "metadata": {},
   "outputs": [
    {
     "data": {
      "text/plain": [
       "7"
      ]
     },
     "execution_count": 32,
     "metadata": {},
     "output_type": "execute_result"
    }
   ],
   "source": [
    "prod_na.dropna().values.shape[1]"
   ]
  },
  {
   "cell_type": "code",
   "execution_count": null,
   "metadata": {},
   "outputs": [],
   "source": [
    "class OLIST:\n",
    "    def __init__(data,test_type=None):\n",
    "        \n",
    "        self.data = data\n",
    "        self.test_type=test_type\n",
    "    \n",
    "    def check_regression_assumptions(self,model):\n",
    "        '''Check for assumptions of regression.\n",
    "            \n",
    "            input_params : model -statsmodels OLS that is fit.\n",
    "            \n",
    "            return - dataframe which checks every assumption of regression.\n",
    "            \n",
    "            The assumptions are \n",
    "            1. Non-linearity of response and predictor variables.\n",
    "            2. Absence of correlation of error terms.\n",
    "            3. Homogenity of variance or Homoscedascity.\n",
    "            4. Absence of Multicollinearity among predictor variables.\n",
    "            5. Absence of outliers.\n",
    "            6. Normality of response and predictor variable.\n",
    "        '''\n",
    "        \n",
    "        #Assumption 1 and 3 can be checked by plotting residual vs fitted values. Absence of Linearity means a pattern is recognised.\n",
    "        # If there is funnel shaped data then there is homogenity.\n",
    "        \n",
    "        sns.scatterplot(y=model.resid,x=model.fittedvalues,data=self.data)\n",
    "        plt.xlabel('Fitted Values')\n",
    "        plt.ylabel('Residual values')\n",
    "        \n",
    "        #Assumption 2 Error terms should not be correlated.Utilise the durbin watson test and plot acf\n",
    "        \n",
    "        #plotting acf\n",
    "        plt.figure()\n",
    "        sm.graphics.tsa.plot_acf(model.resid,lags=20,zero=False)\n",
    "        \n",
    "        #using durbin watson - check if value range is btw 1.5 - 2.5. If yes, then no autocorrelation.\n",
    "        \n",
    "        print('Durbin Watson value = ' durbin_watson(model.resid))\n",
    "        \n",
    "        #Assumption 4. Absence of MultiCollinearity.Use VIF\n",
    "        \n",
    "        vif = pd.DataFrame()\n",
    "        vif_check = self.data._get_numeric_data()[:]\n",
    "        vif_check['Intercept'] = 1\n",
    "        \n",
    "        vif['Variables'] = vif_check.columns\n",
    "        vif['Vif'] = [variance_inflation_factor(vif_check.values, i) for i in range(vif_check.shape[1])]\n",
    "        print(vif)\n",
    "\n",
    "        \n",
    "        \n",
    "            \n",
    "            \n",
    "        \n",
    "        \n",
    "        \n",
    "        \n",
    "        \n",
    "        \n",
    "        "
   ]
  },
  {
   "cell_type": "code",
   "execution_count": null,
   "metadata": {},
   "outputs": [],
   "source": []
  }
 ],
 "metadata": {
  "kernelspec": {
   "display_name": "Python 3",
   "language": "python",
   "name": "python3"
  },
  "language_info": {
   "codemirror_mode": {
    "name": "ipython",
    "version": 3
   },
   "file_extension": ".py",
   "mimetype": "text/x-python",
   "name": "python",
   "nbconvert_exporter": "python",
   "pygments_lexer": "ipython3",
   "version": "3.8.2"
  }
 },
 "nbformat": 4,
 "nbformat_minor": 4
}
